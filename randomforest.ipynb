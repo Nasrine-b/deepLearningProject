{
 "cells": [
  {
   "cell_type": "code",
   "execution_count": 10,
   "metadata": {},
   "outputs": [],
   "source": [
    "#Imports\n",
    "import h5py\n",
    "import sys\n",
    "import numpy as np\n",
    "from sklearn import neighbors, datasets, preprocessing\n",
    "from sklearn.model_selection import train_test_split\n",
    "from sklearn import metrics\n",
    "from matplotlib.axes import Axes\n",
    "import seaborn as sns\n",
    "from matplotlib.colors import ListedColormap\n",
    "from sklearn.metrics import classification_report, confusion_matrix\n",
    "import matplotlib.pyplot as plt\n",
    "from sklearn.ensemble import RandomForestClassifier\n",
    "from sklearn.datasets import make_classification"
   ]
  },
  {
   "cell_type": "code",
   "execution_count": 3,
   "metadata": {},
   "outputs": [],
   "source": [
    "#Reading data\n",
    "dir_dataset_sg = 'data/SG24_dataset.h5'\n",
    "# Open H5 file to read\n",
    "file = h5py.File(dir_dataset_sg,'r')\n",
    "\n",
    "X = file['Predictors']\n",
    "T = file['Target']\n",
    "U = file['User']\n",
    "\n",
    "X = np.array(X).transpose() #features\n",
    "T = np.array(T).transpose() #target\n",
    "U = np.array(U).transpose() #user\n",
    "U = U[:,0]\n",
    "T = T[:,0]"
   ]
  },
  {
   "cell_type": "code",
   "execution_count": 4,
   "metadata": {},
   "outputs": [],
   "source": [
    "#Make user 8 appear only on the test data\n",
    "user = 8\n",
    "ind_all = np.arange(X.shape[0])\n",
    "ind_all_u = ind_all[U[ind_all]==user]\n",
    "ind_all = ind_all[U[ind_all]!=user]\n",
    "\n",
    "ind_train, ind_test = train_test_split(ind_all,\n",
    "                                       shuffle=True,\n",
    "                                       stratify=T[ind_all],\n",
    "                                       test_size=600,\n",
    "                                       random_state=42)\n",
    "ind_val, ind_test = train_test_split(ind_test,\n",
    "                                     shuffle=True,\n",
    "                                     stratify=T[ind_test],\n",
    "                                     test_size=240,\n",
    "                                     random_state=41)\n",
    "\n",
    "ind_test = np.concatenate((ind_test, ind_all_u))\n",
    "X_train = X[ind_train,:]\n",
    "X_val   = X[ind_val,:]\n",
    "X_test  = X[ind_test,:]\n",
    "t_train = T[ind_train]\n",
    "t_val   = T[ind_val]\n",
    "t_test  = T[ind_test]\n",
    "u_train = U[ind_train]\n",
    "u_val   = U[ind_val]\n",
    "u_test  = U[ind_test]"
   ]
  },
  {
   "cell_type": "code",
   "execution_count": 5,
   "metadata": {},
   "outputs": [
    {
     "name": "stdout",
     "output_type": "stream",
     "text": [
      "Accuracy: 0.9194444444444444\n",
      "              precision    recall  f1-score   support\n",
      "\n",
      "           1       0.87      0.87      0.87        15\n",
      "           2       0.87      0.87      0.87        15\n",
      "           3       1.00      0.73      0.85        15\n",
      "           4       0.88      0.93      0.90        15\n",
      "           5       1.00      1.00      1.00        15\n",
      "           6       1.00      1.00      1.00        15\n",
      "           7       1.00      1.00      1.00        15\n",
      "           8       1.00      0.27      0.42        15\n",
      "           9       0.88      0.93      0.90        15\n",
      "          10       0.88      0.93      0.90        15\n",
      "          11       1.00      0.87      0.93        15\n",
      "          12       0.94      1.00      0.97        15\n",
      "          13       0.93      0.93      0.93        15\n",
      "          14       1.00      1.00      1.00        15\n",
      "          15       1.00      1.00      1.00        15\n",
      "          16       0.93      0.87      0.90        15\n",
      "          17       1.00      0.93      0.97        15\n",
      "          18       0.62      1.00      0.77        15\n",
      "          19       1.00      1.00      1.00        15\n",
      "          20       0.94      1.00      0.97        15\n",
      "          21       1.00      1.00      1.00        15\n",
      "          22       1.00      1.00      1.00        15\n",
      "          23       0.74      0.93      0.82        15\n",
      "          24       0.94      1.00      0.97        15\n",
      "\n",
      "    accuracy                           0.92       360\n",
      "   macro avg       0.93      0.92      0.91       360\n",
      "weighted avg       0.93      0.92      0.91       360\n",
      "\n"
     ]
    }
   ],
   "source": [
    "clf = RandomForestClassifier(max_depth=4, random_state=0)\n",
    "clf.fit(X_train, t_train)\n",
    "t_pred = clf.predict(X_test)\n",
    "print(\"Accuracy:\",metrics.accuracy_score(t_test, t_pred))\n",
    "print(classification_report(t_test,t_pred))\n",
    "#print(confusion_matrix(t_test,t_pred))"
   ]
  },
  {
   "cell_type": "code",
   "execution_count": 6,
   "metadata": {},
   "outputs": [],
   "source": [
    "#--------------------CROSS VALIDATION-------------------------------\n",
    "\n",
    "tuned_parameters = [{'kernel': ['rbf'], 'K': list(range(10))}]\n",
    "\n",
    "scores = ['precision', 'recall']\n",
    "\n",
    "ind_all = np.arange(X.shape[0])\n",
    "\n",
    "ind_train, ind_test = train_test_split(ind_all,\n",
    "                                       shuffle=True,\n",
    "                                       stratify=T[ind_all],\n",
    "                                       test_size=0.3,\n",
    "                                       random_state=42)\n",
    "\n",
    "X_train = X[ind_train,:]\n",
    "X_test  = X[ind_test,:]\n",
    "t_train = T[ind_train]\n",
    "t_test  = T[ind_test]\n",
    "u_train = U[ind_train]\n",
    "u_test  = U[ind_test]"
   ]
  },
  {
   "cell_type": "code",
   "execution_count": 13,
   "metadata": {},
   "outputs": [
    {
     "data": {
      "text/plain": [
       "{'max_depth': 13, 'n_estimators': 104}"
      ]
     },
     "execution_count": 13,
     "metadata": {},
     "output_type": "execute_result"
    }
   ],
   "source": [
    "from sklearn.model_selection import GridSearchCV#create new a knn model\n",
    "RF = RandomForestClassifier()#create a dictionary of all values we want to test for n_neighbors\n",
    "param_grid = [{'max_depth' : (np.arange(2,15)),'n_estimators' : (np.arange(99,110))}]\n",
    "\n",
    "RF_gscv = GridSearchCV(RF, param_grid, cv=5)#fit model to data\n",
    "RF_gscv.fit(X, T)\n",
    "#check top performing n_neighbors value\n",
    "RF_gscv.best_params_\n"
   ]
  },
  {
   "cell_type": "code",
   "execution_count": 15,
   "metadata": {},
   "outputs": [
    {
     "name": "stdout",
     "output_type": "stream",
     "text": [
      "Accuracy: 0.9430555555555555\n",
      "              precision    recall  f1-score   support\n",
      "\n",
      "           1       1.00      0.87      0.93        30\n",
      "           2       0.93      0.87      0.90        30\n",
      "           3       1.00      0.93      0.97        30\n",
      "           4       0.83      0.97      0.89        30\n",
      "           5       0.96      0.90      0.93        30\n",
      "           6       1.00      0.97      0.98        30\n",
      "           7       1.00      0.97      0.98        30\n",
      "           8       0.84      0.70      0.76        30\n",
      "           9       0.93      0.93      0.93        30\n",
      "          10       0.91      1.00      0.95        30\n",
      "          11       1.00      0.97      0.98        30\n",
      "          12       1.00      0.93      0.97        30\n",
      "          13       0.88      1.00      0.94        30\n",
      "          14       0.97      0.97      0.97        30\n",
      "          15       0.94      1.00      0.97        30\n",
      "          16       0.96      0.90      0.93        30\n",
      "          17       0.97      0.97      0.97        30\n",
      "          18       0.76      0.93      0.84        30\n",
      "          19       0.97      0.97      0.97        30\n",
      "          20       0.94      1.00      0.97        30\n",
      "          21       0.97      0.97      0.97        30\n",
      "          22       1.00      0.97      0.98        30\n",
      "          23       1.00      0.97      0.98        30\n",
      "          24       0.97      1.00      0.98        30\n",
      "\n",
      "    accuracy                           0.94       720\n",
      "   macro avg       0.95      0.94      0.94       720\n",
      "weighted avg       0.95      0.94      0.94       720\n",
      "\n"
     ]
    }
   ],
   "source": [
    "clf = RandomForestClassifier(max_depth=RF_gscv.best_params_['max_depth'], random_state=0,n_estimators = RF_gscv.best_params_['n_estimators'])\n",
    "clf.fit(X_train, t_train)\n",
    "t_pred = clf.predict(X_test)\n",
    "print(\"Accuracy:\",metrics.accuracy_score(t_test, t_pred))\n",
    "print(classification_report(t_test,t_pred))\n",
    "#print(confusion_matrix(t_test,t_pred))"
   ]
  }
 ],
 "metadata": {
  "kernelspec": {
   "display_name": "Python 3",
   "language": "python",
   "name": "python3"
  },
  "language_info": {
   "codemirror_mode": {
    "name": "ipython",
    "version": 3
   },
   "file_extension": ".py",
   "mimetype": "text/x-python",
   "name": "python",
   "nbconvert_exporter": "python",
   "pygments_lexer": "ipython3",
   "version": "3.8.5"
  }
 },
 "nbformat": 4,
 "nbformat_minor": 4
}
