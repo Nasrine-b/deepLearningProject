{
 "cells": [
  {
   "cell_type": "code",
   "execution_count": 6,
   "metadata": {},
   "outputs": [],
   "source": [
    "#Imports\n",
    "import h5py\n",
    "import sys\n",
    "import numpy as np\n",
    "from sklearn import neighbors, datasets, preprocessing\n",
    "from sklearn.model_selection import train_test_split\n",
    "from sklearn import metrics\n",
    "from matplotlib.axes import Axes\n",
    "import seaborn as sns\n",
    "from matplotlib.colors import ListedColormap\n",
    "from sklearn.metrics import classification_report, confusion_matrix\n",
    "import matplotlib.pyplot as plt\n",
    "from sklearn.ensemble import RandomForestClassifier\n",
    "from sklearn.datasets import make_classification"
   ]
  },
  {
   "cell_type": "code",
   "execution_count": 2,
   "metadata": {},
   "outputs": [],
   "source": [
    "#Reading data\n",
    "dir_dataset_sg = 'data/SG24_dataset.h5'\n",
    "# Open H5 file to read\n",
    "file = h5py.File(dir_dataset_sg,'r')\n",
    "\n",
    "X = file['Predictors']\n",
    "T = file['Target']\n",
    "U = file['User']\n",
    "\n",
    "X = np.array(X).transpose() #features\n",
    "T = np.array(T).transpose() #target\n",
    "U = np.array(U).transpose() #user\n",
    "U = U[:,0]\n",
    "T = T[:,0]"
   ]
  },
  {
   "cell_type": "code",
   "execution_count": 3,
   "metadata": {},
   "outputs": [],
   "source": [
    "#Make user 8 appear only on the test data\n",
    "\n",
    "user = 8\n",
    "ind_all = np.arange(X.shape[0])\n",
    "ind_all_u = ind_all[U[ind_all]==user]\n",
    "ind_all = ind_all[U[ind_all]!=user]\n",
    "\n",
    "ind_train, ind_test = train_test_split(ind_all,\n",
    "                                       shuffle=True,\n",
    "                                       stratify=T[ind_all],\n",
    "                                       test_size=600,\n",
    "                                       random_state=42)\n",
    "ind_val, ind_test = train_test_split(ind_test,\n",
    "                                     shuffle=True,\n",
    "                                     stratify=T[ind_test],\n",
    "                                     test_size=240,\n",
    "                                     random_state=41)\n",
    "\n",
    "ind_test = np.concatenate((ind_test, ind_all_u))\n",
    "X_train = X[ind_train,:]\n",
    "X_val   = X[ind_val,:]\n",
    "X_test  = X[ind_test,:]\n",
    "t_train = T[ind_train]\n",
    "t_val   = T[ind_val]\n",
    "t_test  = T[ind_test]\n",
    "u_train = U[ind_train]\n",
    "u_val   = U[ind_val]\n",
    "u_test  = U[ind_test]"
   ]
  },
  {
   "cell_type": "code",
   "execution_count": 24,
   "metadata": {},
   "outputs": [
    {
     "name": "stdout",
     "output_type": "stream",
     "text": [
      "Accuracy: 0.9472222222222222\n",
      "              precision    recall  f1-score   support\n",
      "\n",
      "           1       1.00      0.87      0.93        15\n",
      "           2       0.92      0.73      0.81        15\n",
      "           3       1.00      1.00      1.00        15\n",
      "           4       0.88      1.00      0.94        15\n",
      "           5       1.00      1.00      1.00        15\n",
      "           6       1.00      1.00      1.00        15\n",
      "           7       1.00      0.93      0.97        15\n",
      "           8       0.83      0.67      0.74        15\n",
      "           9       1.00      0.93      0.97        15\n",
      "          10       0.88      0.93      0.90        15\n",
      "          11       1.00      0.87      0.93        15\n",
      "          12       0.94      1.00      0.97        15\n",
      "          13       0.94      1.00      0.97        15\n",
      "          14       1.00      1.00      1.00        15\n",
      "          15       1.00      1.00      1.00        15\n",
      "          16       0.82      0.93      0.87        15\n",
      "          17       0.94      1.00      0.97        15\n",
      "          18       0.78      0.93      0.85        15\n",
      "          19       1.00      1.00      1.00        15\n",
      "          20       1.00      1.00      1.00        15\n",
      "          21       0.94      1.00      0.97        15\n",
      "          22       1.00      1.00      1.00        15\n",
      "          23       1.00      0.93      0.97        15\n",
      "          24       0.94      1.00      0.97        15\n",
      "\n",
      "    accuracy                           0.95       360\n",
      "   macro avg       0.95      0.95      0.95       360\n",
      "weighted avg       0.95      0.95      0.95       360\n",
      "\n"
     ]
    }
   ],
   "source": [
    "clf = RandomForestClassifier(max_depth=19, random_state=0)\n",
    "clf.fit(X_train, t_train)\n",
    "t_pred = clf.predict(X_test)\n",
    "print(\"Accuracy:\",metrics.accuracy_score(t_test, t_pred))\n",
    "print(classification_report(t_test,t_pred))\n",
    "#print(confusion_matrix(t_test,t_pred))"
   ]
  }
 ],
 "metadata": {
  "kernelspec": {
   "display_name": "Python 3",
   "language": "python",
   "name": "python3"
  },
  "language_info": {
   "codemirror_mode": {
    "name": "ipython",
    "version": 3
   },
   "file_extension": ".py",
   "mimetype": "text/x-python",
   "name": "python",
   "nbconvert_exporter": "python",
   "pygments_lexer": "ipython3",
   "version": "3.8.5"
  }
 },
 "nbformat": 4,
 "nbformat_minor": 4
}
